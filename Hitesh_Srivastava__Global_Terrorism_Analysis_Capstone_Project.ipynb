{
  "nbformat": 4,
  "nbformat_minor": 0,
  "metadata": {
    "kernelspec": {
      "display_name": "Python 3",
      "language": "python",
      "name": "python3"
    },
    "language_info": {
      "codemirror_mode": {
        "name": "ipython",
        "version": 3
      },
      "file_extension": ".py",
      "mimetype": "text/x-python",
      "name": "python",
      "nbconvert_exporter": "python",
      "pygments_lexer": "ipython3",
      "version": "3.6.6"
    },
    "colab": {
      "provenance": [],
      "collapsed_sections": [],
      "include_colab_link": true
    }
  },
  "cells": [
    {
      "cell_type": "markdown",
      "metadata": {
        "id": "view-in-github",
        "colab_type": "text"
      },
      "source": [
        "<a href=\"https://colab.research.google.com/github/hitcaff/GLOBAL-TERRORISM-ANALYSIS/blob/main/Hitesh_Srivastava__Global_Terrorism_Analysis_Capstone_Project.ipynb\" target=\"_parent\"><img src=\"https://colab.research.google.com/assets/colab-badge.svg\" alt=\"Open In Colab\"/></a>"
      ]
    },
    {
      "cell_type": "markdown",
      "metadata": {
        "id": "Y06xIdG26kRF"
      },
      "source": [
        "## <b> The Global Terrorism Database (GTD) is an open-source database including information on terrorist attacks around the world from 1970 through 2017. The GTD includes systematic data on domestic as well as international terrorist incidents that have occurred during this time period and now includes more than 180,000 attacks. The database is maintained by researchers at the National Consortium for the Study of Terrorism and Responses to Terrorism (START), headquartered at the University of Maryland.</b>\n",
        "\n"
      ]
    },
    {
      "cell_type": "markdown",
      "source": [
        "We all have heard and read about terrorism. Though it's apalling but it has been there since a very long time. The simplest definition of terrorism goes like:\n",
        " \"The calculated use of unlawful violence or threat of unlawful violence to inculcate fear; intended to coerce or to intimidate governments or societies in the pursuit of goals that are generally political, religious, or ideological. \"\n",
        " Reference: https://dema.az.gov/sites/default/files/Publications/AR-Terrorism%20Definitions-BORUNDA.pdf\n",
        "\n",
        " Data has always been there but to use data in order to imrpove everything around us, is a field that has found it's way recently. I wish, actually everyone wishes, that there was less data about terrorism but unfortunately that's not true. \n",
        " \n",
        " So, when there is data about terrorism we should try to use it against it. \n",
        " I think that this data which I am going to work upon is not enough to permanently conclude terrorism but let's see what we can find.\n",
        " \" History is place to learn from! \""
      ],
      "metadata": {
        "id": "b0pS-98dHryg"
      }
    },
    {
      "cell_type": "code",
      "metadata": {
        "id": "dByMsuzT8Tnw"
      },
      "source": [
        "#Let's import the things we need for now\n",
        "\n",
        "import numpy as np  \n",
        "import pandas as pd \n",
        "import matplotlib.pyplot as plt \n",
        "import seaborn as sns\n",
        "%matplotlib inline\n",
        "import plotly.express as px\n",
        "from wordcloud import WordCloud\n",
        "from scipy import signal\n",
        "import plotly.graph_objects as go\n",
        "import warnings\n",
        "warnings.filterwarnings('ignore')\n",
        "\n"
      ],
      "execution_count": 2,
      "outputs": []
    },
    {
      "cell_type": "code",
      "source": [
        "from google.colab import drive\n",
        "drive.mount('/content/drive')"
      ],
      "metadata": {
        "colab": {
          "base_uri": "https://localhost:8080/"
        },
        "id": "Gfrw63IvUkJu",
        "outputId": "40452d5c-87e0-4342-f5a9-0566b869c1a1"
      },
      "execution_count": 1,
      "outputs": [
        {
          "output_type": "stream",
          "name": "stdout",
          "text": [
            "Mounted at /content/drive\n"
          ]
        }
      ]
    },
    {
      "cell_type": "code",
      "source": [
        "terror_df = pd.read_csv('/content/drive/MyDrive/Copy of Global Terrorism Data.csv' ,encoding='ISO-8859-1')"
      ],
      "metadata": {
        "id": "dE79p3ieUa0n"
      },
      "execution_count": 3,
      "outputs": []
    },
    {
      "cell_type": "code",
      "source": [
        "t_list = list(terror_df)"
      ],
      "metadata": {
        "id": "jTQJvkk1Y4VE"
      },
      "execution_count": null,
      "outputs": []
    },
    {
      "cell_type": "code",
      "source": [
        "print(t_list)"
      ],
      "metadata": {
        "colab": {
          "base_uri": "https://localhost:8080/"
        },
        "id": "INDq4zcCZUM_",
        "outputId": "6eb04278-6242-46c0-824f-74ece068c4e4"
      },
      "execution_count": null,
      "outputs": [
        {
          "output_type": "stream",
          "name": "stdout",
          "text": [
            "['eventid', 'iyear', 'imonth', 'iday', 'approxdate', 'extended', 'resolution', 'country', 'country_txt', 'region', 'region_txt', 'provstate', 'city', 'latitude', 'longitude', 'specificity', 'vicinity', 'location', 'summary', 'crit1', 'crit2', 'crit3', 'doubtterr', 'alternative', 'alternative_txt', 'multiple', 'success', 'suicide', 'attacktype1', 'attacktype1_txt', 'attacktype2', 'attacktype2_txt', 'attacktype3', 'attacktype3_txt', 'targtype1', 'targtype1_txt', 'targsubtype1', 'targsubtype1_txt', 'corp1', 'target1', 'natlty1', 'natlty1_txt', 'targtype2', 'targtype2_txt', 'targsubtype2', 'targsubtype2_txt', 'corp2', 'target2', 'natlty2', 'natlty2_txt', 'targtype3', 'targtype3_txt', 'targsubtype3', 'targsubtype3_txt', 'corp3', 'target3', 'natlty3', 'natlty3_txt', 'gname', 'gsubname', 'gname2', 'gsubname2', 'gname3', 'gsubname3', 'motive', 'guncertain1', 'guncertain2', 'guncertain3', 'individual', 'nperps', 'nperpcap', 'claimed', 'claimmode', 'claimmode_txt', 'claim2', 'claimmode2', 'claimmode2_txt', 'claim3', 'claimmode3', 'claimmode3_txt', 'compclaim', 'weaptype1', 'weaptype1_txt', 'weapsubtype1', 'weapsubtype1_txt', 'weaptype2', 'weaptype2_txt', 'weapsubtype2', 'weapsubtype2_txt', 'weaptype3', 'weaptype3_txt', 'weapsubtype3', 'weapsubtype3_txt', 'weaptype4', 'weaptype4_txt', 'weapsubtype4', 'weapsubtype4_txt', 'weapdetail', 'nkill', 'nkillus', 'nkillter', 'nwound', 'nwoundus', 'nwoundte', 'property', 'propextent', 'propextent_txt', 'propvalue', 'propcomment', 'ishostkid', 'nhostkid', 'nhostkidus', 'nhours', 'ndays', 'divert', 'kidhijcountry', 'ransom', 'ransomamt', 'ransomamtus', 'ransompaid', 'ransompaidus', 'ransomnote', 'hostkidoutcome', 'hostkidoutcome_txt', 'nreleased', 'addnotes', 'scite1', 'scite2', 'scite3', 'dbsource', 'INT_LOG', 'INT_IDEO', 'INT_MISC', 'INT_ANY', 'related']\n"
          ]
        }
      ]
    },
    {
      "cell_type": "code",
      "source": [
        "terror_df.isnull().mean()"
      ],
      "metadata": {
        "colab": {
          "base_uri": "https://localhost:8080/"
        },
        "id": "5bv5m6w5K6ty",
        "outputId": "ea75d584-5f40-4f39-c60d-6df63d432e17"
      },
      "execution_count": 8,
      "outputs": [
        {
          "output_type": "execute_result",
          "data": {
            "text/plain": [
              "eventid       0.000000\n",
              "iyear         0.000000\n",
              "imonth        0.000000\n",
              "iday          0.000000\n",
              "approxdate    0.949150\n",
              "                ...   \n",
              "INT_LOG       0.000000\n",
              "INT_IDEO      0.000000\n",
              "INT_MISC      0.000000\n",
              "INT_ANY       0.000000\n",
              "related       0.862195\n",
              "Length: 135, dtype: float64"
            ]
          },
          "metadata": {},
          "execution_count": 8
        }
      ]
    },
    {
      "cell_type": "code",
      "source": [
        "# Removing columns having null values more than 50%\n",
        "# Creating dataframe without null values\n",
        "\n",
        "df_wo_null = terror_df[terror_df.columns[terror_df.isnull().mean() < 0.5]]\n",
        "df_wo_null.info()"
      ],
      "metadata": {
        "colab": {
          "base_uri": "https://localhost:8080/"
        },
        "id": "bB_4aR8dMn0L",
        "outputId": "67c756cd-cde2-414c-f050-df1653e1dace"
      },
      "execution_count": 13,
      "outputs": [
        {
          "output_type": "stream",
          "name": "stdout",
          "text": [
            "<class 'pandas.core.frame.DataFrame'>\n",
            "RangeIndex: 181691 entries, 0 to 181690\n",
            "Data columns (total 58 columns):\n",
            " #   Column            Non-Null Count   Dtype  \n",
            "---  ------            --------------   -----  \n",
            " 0   eventid           181691 non-null  int64  \n",
            " 1   iyear             181691 non-null  int64  \n",
            " 2   imonth            181691 non-null  int64  \n",
            " 3   iday              181691 non-null  int64  \n",
            " 4   extended          181691 non-null  int64  \n",
            " 5   country           181691 non-null  int64  \n",
            " 6   country_txt       181691 non-null  object \n",
            " 7   region            181691 non-null  int64  \n",
            " 8   region_txt        181691 non-null  object \n",
            " 9   provstate         181270 non-null  object \n",
            " 10  city              181257 non-null  object \n",
            " 11  latitude          177135 non-null  float64\n",
            " 12  longitude         177134 non-null  float64\n",
            " 13  specificity       181685 non-null  float64\n",
            " 14  vicinity          181691 non-null  int64  \n",
            " 15  summary           115562 non-null  object \n",
            " 16  crit1             181691 non-null  int64  \n",
            " 17  crit2             181691 non-null  int64  \n",
            " 18  crit3             181691 non-null  int64  \n",
            " 19  doubtterr         181690 non-null  float64\n",
            " 20  multiple          181690 non-null  float64\n",
            " 21  success           181691 non-null  int64  \n",
            " 22  suicide           181691 non-null  int64  \n",
            " 23  attacktype1       181691 non-null  int64  \n",
            " 24  attacktype1_txt   181691 non-null  object \n",
            " 25  targtype1         181691 non-null  int64  \n",
            " 26  targtype1_txt     181691 non-null  object \n",
            " 27  targsubtype1      171318 non-null  float64\n",
            " 28  targsubtype1_txt  171318 non-null  object \n",
            " 29  corp1             139141 non-null  object \n",
            " 30  target1           181055 non-null  object \n",
            " 31  natlty1           180132 non-null  float64\n",
            " 32  natlty1_txt       180132 non-null  object \n",
            " 33  gname             181691 non-null  object \n",
            " 34  guncertain1       181311 non-null  float64\n",
            " 35  individual        181691 non-null  int64  \n",
            " 36  nperps            110576 non-null  float64\n",
            " 37  nperpcap          112202 non-null  float64\n",
            " 38  claimed           115571 non-null  float64\n",
            " 39  weaptype1         181691 non-null  int64  \n",
            " 40  weaptype1_txt     181691 non-null  object \n",
            " 41  weapsubtype1      160923 non-null  float64\n",
            " 42  weapsubtype1_txt  160923 non-null  object \n",
            " 43  weapdetail        114021 non-null  object \n",
            " 44  nkill             171378 non-null  float64\n",
            " 45  nkillus           117245 non-null  float64\n",
            " 46  nkillter          114733 non-null  float64\n",
            " 47  nwound            165380 non-null  float64\n",
            " 48  nwoundus          116989 non-null  float64\n",
            " 49  nwoundte          112548 non-null  float64\n",
            " 50  property          181691 non-null  int64  \n",
            " 51  ishostkid         181513 non-null  float64\n",
            " 52  scite1            115500 non-null  object \n",
            " 53  dbsource          181691 non-null  object \n",
            " 54  INT_LOG           181691 non-null  int64  \n",
            " 55  INT_IDEO          181691 non-null  int64  \n",
            " 56  INT_MISC          181691 non-null  int64  \n",
            " 57  INT_ANY           181691 non-null  int64  \n",
            "dtypes: float64(19), int64(22), object(17)\n",
            "memory usage: 80.4+ MB\n"
          ]
        }
      ]
    },
    {
      "cell_type": "code",
      "source": [],
      "metadata": {
        "id": "XeAoX3ooQriw"
      },
      "execution_count": null,
      "outputs": []
    }
  ]
}